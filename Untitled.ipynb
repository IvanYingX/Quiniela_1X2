{
 "cells": [
  {
   "cell_type": "code",
   "execution_count": 1,
   "metadata": {},
   "outputs": [],
   "source": [
    "import pandas as pd\n",
    "from bs4 import BeautifulSoup\n",
    "from selenium import webdriver\n",
    "import requests\n",
    "import unicodedata\n",
    "import re\n",
    "from urllib.request import urlopen"
   ]
  },
  {
   "cell_type": "code",
   "execution_count": 2,
   "metadata": {},
   "outputs": [],
   "source": [
    "# Funciones que ayudan\n",
    "\n",
    "def get_page(url):\n",
    "    '''Dada una url desencripta con selenium, devuelve una sopa bonita. Trabaja con Firefox'''\n",
    "    #driver = webdriver.Firefox()\n",
    "    #driver.get(url)\n",
    "    \n",
    "    #html = requests.get(url).text\n",
    "    html = urlopen(url)\n",
    "    soup = BeautifulSoup(html, 'html.parser')\n",
    "    #driver.quit()\n",
    "    return soup"
   ]
  },
  {
   "cell_type": "code",
   "execution_count": 3,
   "metadata": {},
   "outputs": [],
   "source": [
    "soup = get_page('https://www.resultados-futbol.com/primera2019/grupo1/jornada18')\n"
   ]
  },
  {
   "cell_type": "code",
   "execution_count": 4,
   "metadata": {},
   "outputs": [
    {
     "data": {
      "text/plain": [
       "10"
      ]
     },
     "execution_count": 4,
     "metadata": {},
     "output_type": "execute_result"
    }
   ],
   "source": [
    "tabla_cont = soup.find_all('div', class_='contentitem')[0]\n",
    "tabla_1 = tabla_cont.find_all('table')[0]\n",
    "vevent = tabla_1.find_all('tr', class_='vevent')\n",
    "# Hasta aquí son los partidos jugados durante la jornada\n",
    "len(vevent)"
   ]
  },
  {
   "cell_type": "code",
   "execution_count": 5,
   "metadata": {},
   "outputs": [
    {
     "data": {
      "text/plain": [
       "'Fri, 04 Jan 2019 19:00:00 +0100'"
      ]
     },
     "execution_count": 5,
     "metadata": {},
     "output_type": "execute_result"
    }
   ],
   "source": [
    "col_part = vevent[0].find_all('td', class_='fecha')[0]\n",
    "fecha = col_part.get('data-date')\n",
    "fecha\n",
    "# fecha completada"
   ]
  },
  {
   "cell_type": "code",
   "execution_count": 6,
   "metadata": {},
   "outputs": [
    {
     "data": {
      "text/plain": [
       "'Levante'"
      ]
     },
     "execution_count": 6,
     "metadata": {},
     "output_type": "execute_result"
    }
   ],
   "source": [
    "col_part = vevent[0].find_all('td', class_='equipo1')[0]\n",
    "eq_local = col_part.text.strip()\n",
    "eq_local\n",
    "# equipo local"
   ]
  },
  {
   "cell_type": "code",
   "execution_count": 7,
   "metadata": {},
   "outputs": [
    {
     "data": {
      "text/plain": [
       "'Girona'"
      ]
     },
     "execution_count": 7,
     "metadata": {},
     "output_type": "execute_result"
    }
   ],
   "source": [
    "col_part = vevent[0].find_all('td', class_='equipo2')[0]\n",
    "eq_visitante = col_part.text.strip()\n",
    "eq_visitante\n",
    "# equipo visitante"
   ]
  },
  {
   "cell_type": "code",
   "execution_count": 8,
   "metadata": {},
   "outputs": [],
   "source": [
    "col_part = vevent[0].find_all('td', class_='rstd')[0].find_all('a')[0].text\n",
    "resultado = col_part.split('-')\n",
    "resultado\n",
    "goles_local = resultado[0]\n",
    "goles_visitante = resultado[1]\n",
    "# resultado"
   ]
  },
  {
   "cell_type": "code",
   "execution_count": null,
   "metadata": {},
   "outputs": [],
   "source": [
    "\n"
   ]
  },
  {
   "cell_type": "code",
   "execution_count": 9,
   "metadata": {},
   "outputs": [],
   "source": [
    "# Segunda tabla para tema de rachas y posición en tabla"
   ]
  },
  {
   "cell_type": "code",
   "execution_count": 10,
   "metadata": {},
   "outputs": [],
   "source": [
    "tabla_cont = soup.find_all('div', class_='contentitem')[1]\n",
    "tabla_2 = tabla_cont.find_all('table')[0].find_all('tbody')[0]\n"
   ]
  },
  {
   "cell_type": "code",
   "execution_count": 11,
   "metadata": {},
   "outputs": [
    {
     "data": {
      "text/plain": [
       "20"
      ]
     },
     "execution_count": 11,
     "metadata": {},
     "output_type": "execute_result"
    }
   ],
   "source": [
    "equipos = tabla_2.find_all('tr')\n",
    "len(equipos)"
   ]
  },
  {
   "cell_type": "code",
   "execution_count": 12,
   "metadata": {},
   "outputs": [
    {
     "data": {
      "text/plain": [
       "'Alavés'"
      ]
     },
     "execution_count": 12,
     "metadata": {},
     "output_type": "execute_result"
    }
   ],
   "source": [
    "nombre = equipos[3].find_all('td', class_='equipo')[0]\n",
    "equipo = nombre.text.strip()\n",
    "equipo\n",
    "# Equipo"
   ]
  },
  {
   "cell_type": "code",
   "execution_count": 13,
   "metadata": {},
   "outputs": [
    {
     "data": {
      "text/plain": [
       "'4'"
      ]
     },
     "execution_count": 13,
     "metadata": {},
     "output_type": "execute_result"
    }
   ],
   "source": [
    "posicion_tab = equipos[3].find_all('th')[0].text\n",
    "posicion_tab\n",
    "# posición en la tabla"
   ]
  },
  {
   "cell_type": "code",
   "execution_count": 14,
   "metadata": {},
   "outputs": [
    {
     "data": {
      "text/plain": [
       "['EMPATE', 'DERROTA', 'EMPATE', 'VICTORIA', 'VICTORIA']"
      ]
     },
     "execution_count": 14,
     "metadata": {},
     "output_type": "execute_result"
    }
   ],
   "source": [
    "racha = equipos[3].find_all('td')[-2].find_all('span', class_='classicsmall')\n",
    "lst_racha = [r.text for ra in racha for r in ra.find_all('li', class_=\"title g\")]\n",
    "lst_racha"
   ]
  },
  {
   "cell_type": "code",
   "execution_count": null,
   "metadata": {},
   "outputs": [],
   "source": []
  }
 ],
 "metadata": {
  "kernelspec": {
   "display_name": "Python 3",
   "language": "python",
   "name": "python3"
  },
  "language_info": {
   "codemirror_mode": {
    "name": "ipython",
    "version": 3
   },
   "file_extension": ".py",
   "mimetype": "text/x-python",
   "name": "python",
   "nbconvert_exporter": "python",
   "pygments_lexer": "ipython3",
   "version": "3.8.2"
  }
 },
 "nbformat": 4,
 "nbformat_minor": 4
}
