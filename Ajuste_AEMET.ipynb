{
 "cells": [
  {
   "cell_type": "code",
   "execution_count": 1,
   "metadata": {},
   "outputs": [],
   "source": [
    "import pandas as pd\n",
    "import os\n",
    "from dotenv import load_dotenv\n",
    "import json\n",
    "import re\n",
    "import requests\n",
    "import time\n",
    "\n",
    "import swagger_client\n",
    "from swagger_client.rest import ApiException"
   ]
  },
  {
   "cell_type": "code",
   "execution_count": 2,
   "metadata": {},
   "outputs": [],
   "source": [
    "requests.packages.urllib3.util.ssl_.DEFAULT_CIPHERS += 'HIGH:!DH:!aNULL'\n",
    "try:\n",
    "    requests.packages.urllib3.contrib.pyopenssl.DEFAULT_SSL_CIPHER_LIST += 'HIGH:!DH:!aNULL'\n",
    "except AttributeError:\n",
    "    # no pyopenssl support used / needed / available\n",
    "    pass"
   ]
  },
  {
   "cell_type": "code",
   "execution_count": 3,
   "metadata": {},
   "outputs": [],
   "source": [
    "load_dotenv()\n",
    "AEMET_KEY = os.getenv(\"KEY_AEMET\")\n",
    "configuration = swagger_client.Configuration()\n",
    "configuration.api_key['api_key'] = AEMET_KEY\n",
    "api_instance = swagger_client.ValoresClimatologicosApi(swagger_client.ApiClient(configuration))"
   ]
  },
  {
   "cell_type": "code",
   "execution_count": 4,
   "metadata": {},
   "outputs": [],
   "source": [
    "df15 = pd.read_csv('data/Temp15-16_meteo.csv')\n",
    "df16 = pd.read_csv('data/Temp16-17_meteo.csv')\n",
    "df17 = pd.read_csv('data/Temp17-18_meteo.csv')"
   ]
  },
  {
   "cell_type": "code",
   "execution_count": 9,
   "metadata": {},
   "outputs": [
    {
     "data": {
      "text/html": [
       "<div>\n",
       "<style scoped>\n",
       "    .dataframe tbody tr th:only-of-type {\n",
       "        vertical-align: middle;\n",
       "    }\n",
       "\n",
       "    .dataframe tbody tr th {\n",
       "        vertical-align: top;\n",
       "    }\n",
       "\n",
       "    .dataframe thead th {\n",
       "        text-align: right;\n",
       "    }\n",
       "</style>\n",
       "<table border=\"1\" class=\"dataframe\">\n",
       "  <thead>\n",
       "    <tr style=\"text-align: right;\">\n",
       "      <th></th>\n",
       "      <th>Equipo Local</th>\n",
       "      <th>Goles</th>\n",
       "      <th>Ataque</th>\n",
       "      <th>Medio</th>\n",
       "      <th>Defensa</th>\n",
       "      <th>Goles_Acumulados</th>\n",
       "      <th>Equipo Visitante</th>\n",
       "      <th>Goles.1</th>\n",
       "      <th>Ataque.1</th>\n",
       "      <th>Medio.1</th>\n",
       "      <th>...</th>\n",
       "      <th>Resultado</th>\n",
       "      <th>cod_est</th>\n",
       "      <th>tmin</th>\n",
       "      <th>tmed</th>\n",
       "      <th>tmax</th>\n",
       "      <th>prec</th>\n",
       "      <th>presmin</th>\n",
       "      <th>presmax</th>\n",
       "      <th>velmedia</th>\n",
       "      <th>rachaviento</th>\n",
       "    </tr>\n",
       "  </thead>\n",
       "  <tbody>\n",
       "  </tbody>\n",
       "</table>\n",
       "<p>0 rows × 25 columns</p>\n",
       "</div>"
      ],
      "text/plain": [
       "Empty DataFrame\n",
       "Columns: [Equipo Local, Goles, Ataque, Medio, Defensa, Goles_Acumulados, Equipo Visitante, Goles.1, Ataque.1, Medio.1, Defensa.1, Goles_Acumulados.1, Día, Hora, Jornada, Resultado, cod_est, tmin, tmed, tmax, prec, presmin, presmax, velmedia, rachaviento]\n",
       "Index: []\n",
       "\n",
       "[0 rows x 25 columns]"
      ]
     },
     "execution_count": 9,
     "metadata": {},
     "output_type": "execute_result"
    }
   ],
   "source": [
    "df15.loc[(df15.presmin == '-')]"
   ]
  },
  {
   "cell_type": "code",
   "execution_count": 6,
   "metadata": {},
   "outputs": [],
   "source": [
    "est_meteo_mod15 = {\n",
    "'Sporting de Gijón': {'prov':'Asturias',\n",
    "                      'cod_est':'1208H'},\n",
    "\n",
    "'Deportivo de La Coruña': {'prov':'A Coruña',\n",
    "                           'cod_est':'1387E'},\n",
    "}"
   ]
  },
  {
   "cell_type": "code",
   "execution_count": 7,
   "metadata": {},
   "outputs": [],
   "source": [
    "df15.loc[(df15.presmin == '-'), 'cod_est'] = df15[(df15.presmin == '-')]['Equipo Local'].apply(lambda x: est_meteo_mod15[x]['cod_est'])"
   ]
  },
  {
   "cell_type": "code",
   "execution_count": 8,
   "metadata": {},
   "outputs": [
    {
     "name": "stdout",
     "output_type": "stream",
     "text": [
      "Obteniendo datos de la fila: 98\n",
      "<Response [200]>\n",
      "\n",
      "\n",
      "\n",
      "Obteniendo datos de la fila: 115\n",
      "<Response [200]>\n",
      "\n",
      "\n",
      "\n",
      "Obteniendo datos de la fila: 137\n",
      "<Response [200]>\n",
      "\n",
      "\n",
      "\n",
      "Obteniendo datos de la fila: 159\n",
      "<Response [200]>\n",
      "\n",
      "\n",
      "\n",
      "Obteniendo datos de la fila: 179\n",
      "<Response [200]>\n",
      "\n",
      "\n",
      "\n",
      "Obteniendo datos de la fila: 224\n",
      "<Response [200]>\n",
      "\n",
      "\n",
      "\n",
      "Obteniendo datos de la fila: 230\n",
      "<Response [200]>\n",
      "\n",
      "\n",
      "\n",
      "Obteniendo datos de la fila: 252\n",
      "<Response [200]>\n",
      "\n",
      "\n",
      "\n",
      "Obteniendo datos de la fila: 332\n",
      "<Response [200]>\n",
      "\n",
      "\n",
      "\n",
      "Obteniendo datos de la fila: 377\n",
      "<Response [200]>\n",
      "\n",
      "\n",
      "\n"
     ]
    }
   ],
   "source": [
    "for index, row in df15.loc[(df15.presmin == '-')].iterrows():\n",
    "    print(f'Obteniendo datos de la fila: {index}')\n",
    "    fecha_ini = row.Día + 'T00:00:00UTC'\n",
    "    fecha_fin = row.Día + 'T23:59:59UTC'\n",
    "    estacion = row.cod_est\n",
    "    \n",
    "    try:\n",
    "        respuesta_api = api_instance.climatologas_diarias_(fecha_ini, fecha_fin, estacion)\n",
    "        url_respuesta = respuesta_api.datos\n",
    "        response = requests.request(\"GET\", url_respuesta)\n",
    "        print(response)\n",
    "        print('\\n\\n')\n",
    "        meteo = json.loads(response.text)[0]\n",
    "        \n",
    "        try:\n",
    "            df15.loc[index, 'presmin'] = meteo['presMin']\n",
    "        except:\n",
    "            df15.loc[index, 'presmin'] = '-'\n",
    "        try:\n",
    "            df15.loc[index, 'presmax'] = meteo['presMax']\n",
    "        except:\n",
    "            df15.loc[index, 'presmax'] = '-'\n",
    "\n",
    "        time.sleep(5)\n",
    "    except ApiException as e:\n",
    "        print ('Algo ha fallado')\n",
    "    "
   ]
  },
  {
   "cell_type": "code",
   "execution_count": 12,
   "metadata": {},
   "outputs": [],
   "source": [
    "df15.to_csv('data/Temp15-16_meteo.csv', index=False)"
   ]
  },
  {
   "cell_type": "code",
   "execution_count": null,
   "metadata": {},
   "outputs": [],
   "source": []
  },
  {
   "cell_type": "code",
   "execution_count": null,
   "metadata": {},
   "outputs": [],
   "source": []
  },
  {
   "cell_type": "code",
   "execution_count": null,
   "metadata": {},
   "outputs": [],
   "source": []
  },
  {
   "cell_type": "code",
   "execution_count": null,
   "metadata": {},
   "outputs": [],
   "source": [
    "est_meteo = {\n",
    "'Eibar': {'prov':'Gipuzkoa',\n",
    "         'cod_est':'1050J'},\n",
    "'Granada': {'prov':'Granada',\n",
    "            'cod_est':'5530E'},\n",
    "'Sporting de Gijón': {'prov':'Asturias',\n",
    "                      'cod_est':'1207U'},\n",
    "'Girona': {'prov':'Girona',\n",
    "           'cod_est':'0367'},\n",
    "'Espanyol': {'prov':'Barcelona',\n",
    "             'cod_est':'0076'},\n",
    "'Rayo Vallecano': {'prov':'Madrid',\n",
    "                   'cod_est':'3195'},\n",
    "'Athletic Club': {'prov':'Bizkaia',\n",
    "                  'cod_est':'1082'},\n",
    "'Alavés': {'prov':'Araba',\n",
    "           'cod_est':'9091R'},\n",
    "'Osasuna': {'prov':'Navarra',\n",
    "            'cod_est':'9263D'},\n",
    "'Deportivo de La Coruña': {'prov':'A Coruña',\n",
    "                           'cod_est':'1387'},\n",
    "'Sevilla': {'prov':'Sevilla',\n",
    "            'cod_est':'5783'},\n",
    "'Real Madrid': {'prov':'Madrid',\n",
    "                'cod_est':'3195'},\n",
    "'Leganés': {'prov':'Madrid',\n",
    "            'cod_est':'3195'},\n",
    "'Levante': {'prov':'Valencia',\n",
    "            'cod_est':'8414A'},\n",
    "'Barcelona': {'prov':'Barcelona',\n",
    "              'cod_est':'0076'},\n",
    "'Getafe': {'prov':'Madrid',\n",
    "           'cod_est':'3195'},\n",
    "'Málaga': {'prov':'Málaga',\n",
    "           'cod_est':'6156X'},\n",
    "'Villarreal': {'prov':'Castellón',\n",
    "               'cod_est':'8500A'},\n",
    "'Atlético de Madrid': {'prov':'Madrid',\n",
    "                       'cod_est':'3195'},\n",
    "'Real Sociedad': {'prov':'Gipuzkoa',\n",
    "                  'cod_est':'1014A'},\n",
    "'Las Palmas': {'prov':'Las Palmas',\n",
    "               'cod_est':'C659M'},\n",
    "'Celta de Vigo': {'prov':'Pontevedra',\n",
    "         'cod_est':'1495'},\n",
    "'Betis': {'prov':'Sevilla',\n",
    "          'cod_est':'5783'},\n",
    "'Valencia': {'prov':'Valencia',\n",
    "             'cod_est':'8414A'}\n",
    "\n",
    "}\n"
   ]
  },
  {
   "cell_type": "code",
   "execution_count": null,
   "metadata": {},
   "outputs": [],
   "source": []
  },
  {
   "cell_type": "code",
   "execution_count": null,
   "metadata": {},
   "outputs": [],
   "source": []
  },
  {
   "cell_type": "code",
   "execution_count": null,
   "metadata": {},
   "outputs": [],
   "source": []
  },
  {
   "cell_type": "code",
   "execution_count": null,
   "metadata": {},
   "outputs": [],
   "source": []
  },
  {
   "cell_type": "code",
   "execution_count": null,
   "metadata": {},
   "outputs": [],
   "source": []
  },
  {
   "cell_type": "code",
   "execution_count": null,
   "metadata": {},
   "outputs": [],
   "source": []
  },
  {
   "cell_type": "code",
   "execution_count": null,
   "metadata": {},
   "outputs": [],
   "source": []
  },
  {
   "cell_type": "code",
   "execution_count": null,
   "metadata": {},
   "outputs": [],
   "source": []
  },
  {
   "cell_type": "code",
   "execution_count": null,
   "metadata": {},
   "outputs": [],
   "source": []
  },
  {
   "cell_type": "code",
   "execution_count": null,
   "metadata": {},
   "outputs": [],
   "source": []
  },
  {
   "cell_type": "code",
   "execution_count": null,
   "metadata": {},
   "outputs": [],
   "source": []
  }
 ],
 "metadata": {
  "kernelspec": {
   "display_name": "Python 3",
   "language": "python",
   "name": "python3"
  },
  "language_info": {
   "codemirror_mode": {
    "name": "ipython",
    "version": 3
   },
   "file_extension": ".py",
   "mimetype": "text/x-python",
   "name": "python",
   "nbconvert_exporter": "python",
   "pygments_lexer": "ipython3",
   "version": "3.8.2"
  }
 },
 "nbformat": 4,
 "nbformat_minor": 4
}
